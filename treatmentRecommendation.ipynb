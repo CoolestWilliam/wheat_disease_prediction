{
  "nbformat": 4,
  "nbformat_minor": 0,
  "metadata": {
    "colab": {
      "provenance": []
    },
    "kernelspec": {
      "name": "python3",
      "display_name": "Python 3"
    },
    "language_info": {
      "name": "python"
    }
  },
  "cells": [
    {
      "cell_type": "markdown",
      "source": [
        "# Import model predictions, treatment csv"
      ],
      "metadata": {
        "id": "HP1AOfqiWQ0X"
      }
    },
    {
      "cell_type": "code",
      "execution_count": null,
      "metadata": {
        "id": "mJwcJorQVxE1"
      },
      "outputs": [],
      "source": [
        "from google.colab import files\n",
        "import io\n",
        "import pandas as pd\n",
        "\n",
        "uploaded = files.upload()"
      ]
    },
    {
      "cell_type": "code",
      "source": [
        "treatment_df = pd.read_csv(io.BytesIO(uploaded['wheat_treatments.csv']))"
      ],
      "metadata": {
        "id": "KPXSKYYpXKgK"
      },
      "execution_count": null,
      "outputs": []
    },
    {
      "cell_type": "code",
      "source": [
        "treatment_df"
      ],
      "metadata": {
        "id": "M3r9A9tFRYD_"
      },
      "execution_count": null,
      "outputs": []
    },
    {
      "cell_type": "code",
      "source": [
        "files.upload()"
      ],
      "metadata": {
        "id": "SaOvwSmHXWrC"
      },
      "execution_count": null,
      "outputs": []
    },
    {
      "cell_type": "code",
      "source": [
        "predictions_df = pd.read_csv(io.BytesIO(uploaded['wheatCNNPredictions.csv']))"
      ],
      "metadata": {
        "id": "kNALZMg0XXY7"
      },
      "execution_count": null,
      "outputs": []
    },
    {
      "cell_type": "markdown",
      "source": [
        "# Mapping model predictions to recommended treatment"
      ],
      "metadata": {
        "id": "orLNqReUXZzU"
      }
    },
    {
      "cell_type": "code",
      "source": [
        "def get_recommended_treatment(row_idx):\n",
        "    predicted_disease = predictions_df.loc[row_idx, \"Disease\"]\n",
        "        match = treatment_df.loc[\n",
        "        treatment_df[\"Disease\"] == predicted_disease,\n",
        "        \"Recommended treatments\"\n",
        "    ]\n",
        "\n",
        "    if not match.empty:\n",
        "        treatment = match.values[0]\n",
        "        output = f\"Recommended treatment: {treatment}\"\n",
        "    else:\n",
        "        output = \"Recommended treatment: Not found\"\n",
        "\n",
        "    print(output)\n",
        "    return output\n"
      ],
      "metadata": {
        "id": "AdhjUrBkX495"
      },
      "execution_count": null,
      "outputs": []
    },
    {
      "cell_type": "code",
      "source": [
        "get_recommended_treatment(2)\n",
        "# An example of how the model recommmends treatment for X row."
      ],
      "metadata": {
        "id": "wQoeHDj7X9-i"
      },
      "execution_count": null,
      "outputs": []
    }
  ]
}